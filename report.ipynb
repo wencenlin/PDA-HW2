{
 "cells": [
  {
   "cell_type": "raw",
   "metadata": {},
   "source": [
    "accuracy: 0.99\n",
    "\n",
    "在(sklearn's)Decision tree 中土砂原料的多寡、人為開發程度以及地質年代的影響皆沒被考慮進去，\n",
    "然而卻預測得相當好，可見在影響土石流發生的因子中，坡度及雨量佔了相當程度的影響力。\n",
    "\n",
    "此外，在Decision tree中，雨量的條件先被考慮，然後才考慮坡度，這和我所定的規則順序不同，\n",
    "不過Decision tree的depth與我的相較之下較小且準確率不輸我所定的規則，因此我認為sklearn's Decision tree比較優。\n",
    "\n",
    "我嘗試將隨機生成的data之size加大，可發現當資料越多，準確率也相對增加。\n"
   ]
  }
 ],
 "metadata": {
  "kernelspec": {
   "display_name": "Python 3",
   "language": "python",
   "name": "python3"
  },
  "language_info": {
   "codemirror_mode": {
    "name": "ipython",
    "version": 3
   },
   "file_extension": ".py",
   "mimetype": "text/x-python",
   "name": "python",
   "nbconvert_exporter": "python",
   "pygments_lexer": "ipython3",
   "version": "3.7.1"
  }
 },
 "nbformat": 4,
 "nbformat_minor": 2
}
